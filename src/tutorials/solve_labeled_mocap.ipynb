{
 "cells": [
  {
   "cell_type": "markdown",
   "metadata": {
    "pycharm": {
     "name": "#%% md\n"
    }
   },
   "source": [
    "# Solving MoCap Sequences\n",
    "It might be the case that you have an already labeled mocap dataset and you want to simply \"mosh\" it.\n",
    "Here we take\n",
    "[SOMA dataset's manually labeled mocaps](https://download.is.tue.mpg.de/download.php?domain=soma&sfile=evaluation_mocaps/original/SOMA_dataset/SOMA_manual_labeled.tar.bz2)\n",
    "as a sample case study and provide a code snippet to just mosh it.\n",
    "Please have in mind that we can also process your mocaps for you in case you agree to release them under\n",
    "[AMASS](https://amass.is.tue.mpg.de/)\n",
    "for research purposes.\n",
    "\n",
    "Furthermore, note that our goal is to simply mosh a dataset without considering comparability with other mosh runs;\n",
    "i.e. you cannot compare these results with SOMA experiments. For that refer to special mosh run presented in\n",
    "[here](run_soma_on_soma_dataset.ipynb).\n",
    "\n",
    "Finally, the same code can be used for rendering the MoSh results as well. Enjoy!"
   ]
  },
  {
   "cell_type": "code",
   "execution_count": 9,
   "metadata": {
    "collapsed": false,
    "jupyter": {
     "outputs_hidden": false
    },
    "pycharm": {
     "name": "#%%\n"
    }
   },
   "outputs": [],
   "source": [
    "import os.path as osp\n",
    "from glob import glob\n",
    "\n",
    "import numpy as np\n",
    "from loguru import logger\n",
    "\n",
    "from soma.amass.mosh_manual import mosh_manual"
   ]
  },
  {
   "cell_type": "code",
   "execution_count": 10,
   "metadata": {
    "pycharm": {
     "name": "#%%\n"
    },
    "tags": []
   },
   "outputs": [
    {
     "name": "stderr",
     "output_type": "stream",
     "text": [
      "2023-12-25 17:01:18.819 | INFO     | __main__:<module>:13 - #mocaps found for SOMA_manual_labeled: 69\n"
     ]
    },
    {
     "name": "stderr",
     "output_type": "stream",
     "text": [
      "2023-12-25 17:01:28.676 | INFO     | soma.amass.mosh_manual:mosh_manual:107 - Submitting MoSh++ jobs.\n",
      "2023-12-25 17:01:28.684 | INFO     | soma.tools.parallel_tools:run_parallel_jobs:54 - #Job(s) submitted: 2\n",
      "2023-12-25 17:01:28.685 | INFO     | soma.tools.parallel_tools:run_parallel_jobs:58 - max_num_jobs is set to 1. choosing the first #Job(s): 1\n",
      "2023-12-25 17:01:28.686 | INFO     | soma.tools.parallel_tools:run_parallel_jobs:67 - Will run the jobs in random order.\n"
     ]
    },
    {
     "name": "stdout",
     "output_type": "stream",
     "text": [
      "\u001b[1msoma_subject1 -- clap_001 -- mosh_head:__init__:95 -- mocap_fname: /mnt/d/Code/SOMA/support_files/evaluation_mocaps/original/SOMA_manual_labeled/soma_subject1/clap_001.c3d\u001b[0m\n",
      "\u001b[1msoma_subject1 -- clap_001 -- mosh_head:__init__:97 -- stagei_fname: /mnt/d/Code/SOMA/running_just_mosh/mosh_results/SOMA_manual_labeled/soma_subject1/male_stagei.pkl\u001b[0m\n",
      "\u001b[1msoma_subject1 -- clap_001 -- mosh_head:__init__:98 -- stageii_fname: /mnt/d/Code/SOMA/running_just_mosh/mosh_results/SOMA_manual_labeled/soma_subject1/clap_001_stageii.pkl\u001b[0m\n",
      "\u001b[34m\u001b[1msoma_subject1 -- clap_001 -- mosh_head:__init__:103 -- surface_model: type: smplx; gender: male; fname:/mnt/d/Code/SOMA/support_files/smplx/male/model.pkl\u001b[0m\n",
      "\u001b[34m\u001b[1msoma_subject1 -- clap_001 -- mosh_head:__init__:107 -- optimize_fingers: False, optimize_face: False, optimize_toes: False, optimize_betas: True, optimize_dynamics: False\u001b[0m\n",
      "\u001b[34m\u001b[1msoma_subject1 -- clap_001 -- mosh_head:prepare_stagei_frames:154 -- 12 subject specific mocap(s) are selected for mosh stagei.\u001b[0m\n",
      "\u001b[34m\u001b[1msoma_subject1 -- clap_001 -- mosh_head:prepare_stagei_frames:157 -- Selecting 12 frames using method random_strict on frames with 100% least_avail_markers\u001b[0m\n",
      "\u001b[34m\u001b[1msoma_subject1 -- clap_001 -- mosh_head:prepare_stagei_frames:197 -- Using frames for stage-i: ['/mnt/d/Code/SOMA/support_files/evaluation_mocaps/original/SOMA_manual_labeled/soma_subject1/squat_002.c3d_001163'\n",
      " '/mnt/d/Code/SOMA/support_files/evaluation_mocaps/original/SOMA_manual_labeled/soma_subject1/clap_001.c3d_000625'\n",
      " '/mnt/d/Code/SOMA/support_files/evaluation_mocaps/original/SOMA_manual_labeled/soma_subject1/squat_001.c3d_000522'\n",
      " '/mnt/d/Code/SOMA/support_files/evaluation_mocaps/original/SOMA_manual_labeled/soma_subject1/throw_003.c3d_001234'\n",
      " '/mnt/d/Code/SOMA/support_files/evaluation_mocaps/original/SOMA_manual_labeled/soma_subject1/clap_001.c3d_001121'\n",
      " '/mnt/d/Code/SOMA/support_files/evaluation_mocaps/original/SOMA_manual_labeled/soma_subject1/run_002.c3d_001025'\n",
      " '/mnt/d/Code/SOMA/support_files/evaluation_mocaps/original/SOMA_manual_labeled/soma_subject1/squat_001.c3d_000241'\n",
      " '/mnt/d/Code/SOMA/support_files/evaluation_mocaps/original/SOMA_manual_labeled/soma_subject1/clap_001.c3d_000751'\n",
      " '/mnt/d/Code/SOMA/support_files/evaluation_mocaps/original/SOMA_manual_labeled/soma_subject1/clap_001.c3d_000427'\n",
      " '/mnt/d/Code/SOMA/support_files/evaluation_mocaps/original/SOMA_manual_labeled/soma_subject1/sit_001.c3d_000165'\n",
      " '/mnt/d/Code/SOMA/support_files/evaluation_mocaps/original/SOMA_manual_labeled/soma_subject1/run_002.c3d_000683'\n",
      " '/mnt/d/Code/SOMA/support_files/evaluation_mocaps/original/SOMA_manual_labeled/soma_subject1/clap_003.c3d_001008']\u001b[0m\n",
      "\u001b[34m\u001b[1msoma_subject1 -- clap_001 -- mosh_head:mosh_stagei:230 -- Marker layout not available. It will be produced: /mnt/d/Code/SOMA/running_just_mosh/mosh_results/SOMA_manual_labeled/SOMA_manual_labeled_smplx.json\u001b[0m\n",
      "\u001b[34m\u001b[1msoma_subject1 -- clap_001 -- create_marker_layout_for_mocaps:marker_labels_to_marker_layout:68 -- Preparing marker layout for surface_model_type: smplx\u001b[0m\n",
      "\u001b[34m\u001b[1msoma_subject1 -- clap_001 -- create_marker_layout_for_mocaps:marker_labels_to_marker_layout:106 -- has_face: True, has_finger: True, has_body: True, wrist_markers_on_stick: False\u001b[0m\n",
      "\u001b[1msoma_subject1 -- clap_001 -- create_marker_layout_for_mocaps:marker_labels_to_marker_layout:130 -- Created marker layout: /mnt/d/Code/SOMA/running_just_mosh/mosh_results/SOMA_manual_labeled/SOMA_manual_labeled_smplx.json\u001b[0m\n",
      "\u001b[1msoma_subject1 -- clap_001 -- mosh_head:mosh_stagei:240 -- Attempting mosh stagei to create /mnt/d/Code/SOMA/running_just_mosh/mosh_results/SOMA_manual_labeled/soma_subject1/male_stagei.pkl\u001b[0m\n",
      "\u001b[1msoma_subject1 -- clap_001 -- chmosh:mosh_stagei:120 -- using marker_layout_fname: /mnt/d/Code/SOMA/running_just_mosh/mosh_results/SOMA_manual_labeled/SOMA_manual_labeled_smplx.json\u001b[0m\n",
      "\u001b[1msoma_subject1 -- clap_001 -- edit_tools:marker_layout_load:130 -- Loading marker layout: /mnt/d/Code/SOMA/running_just_mosh/mosh_results/SOMA_manual_labeled/SOMA_manual_labeled_smplx.json\u001b[0m\n",
      "\u001b[1msoma_subject1 -- clap_001 -- edit_tools:marker_layout_load:134 -- Available marker types: {'body': 53}. Total: 53 markers.\u001b[0m\n",
      "\u001b[1msoma_subject1 -- clap_001 -- bodymodel_loader:load_moshpp_models:93 -- Loading model: /mnt/d/Code/SOMA/support_files/smplx/male/model.pkl\u001b[0m\n",
      "\u001b[34m\u001b[1msoma_subject1 -- clap_001 -- chmosh:mosh_stagei:160 -- can_model.betas.shape: (400,)\u001b[0m\n",
      "\u001b[34m\u001b[1msoma_subject1 -- clap_001 -- chmosh:mosh_stagei:161 -- opt_models[0].betas.shape: (400,)\u001b[0m\n",
      "\u001b[34m\u001b[1msoma_subject1 -- clap_001 -- chmosh:mosh_stagei:180 -- Estimating for #latent markers: 53\u001b[0m\n",
      "\u001b[34m\u001b[1msoma_subject1 -- clap_001 -- chmosh:mosh_stagei:217 -- Number of available markers in each stagei selected frames: (F00, 53), (F01, 53), (F02, 53), (F03, 53), (F04, 53), (F05, 53), (F06, 53), (F07, 53), (F08, 53), (F09, 53), (F10, 53), (F11, 53)\u001b[0m\n",
      "\u001b[34m\u001b[1msoma_subject1 -- clap_001 -- chmosh:mosh_stagei:225 -- Rigidly aligning the body to the markers\u001b[0m\n",
      "\u001b[34m\u001b[1msoma_subject1 -- clap_001 -- chmosh:mosh_stagei:250 -- MoSh stagei weights before annealing:\n",
      "stagei_wt_poseH: 3.0\n",
      "stagei_wt_poseF: 3.0\n",
      "stagei_wt_expr: 34.0\n",
      "stagei_wt_pose: 3.0\n",
      "stagei_wt_poseB: 3.0\n",
      "stagei_wt_init_finger_left: 400.0\n",
      "stagei_wt_init_finger_right: 400.0\n",
      "stagei_wt_init_finger: 400.0\n",
      "stagei_wt_betas: 10.0\n",
      "stagei_wt_init: 300\n",
      "stagei_wt_data: 75.0\n",
      "stagei_wt_surf: 10000.0\n",
      "stagei_wt_annealing: [1.0, 0.5, 0.25, 0.125]\u001b[0m\n",
      "\u001b[34m\u001b[1msoma_subject1 -- clap_001 -- chmosh:mosh_stagei:254 -- head_marker_corr_fname is provided and is being loaded: /mnt/d/Code/SOMA/support_files/ssm_head_marker_corr.npz\u001b[0m\n",
      "\u001b[1msoma_subject1 -- clap_001 -- chmosh:mosh_stagei:262 -- Successfully took into account the correlation of the head markers\u001b[0m\n",
      "\u001b[34m\u001b[1msoma_subject1 -- clap_001 -- chmosh:mosh_stagei:268 -- Beginning mosh stagei with opt_settings.weights_type: smplx\u001b[0m\n",
      "\u001b[34m\u001b[1msoma_subject1 -- clap_001 -- chmosh:mosh_stagei:342 -- Step 1/4 : Opt. wt_anneal_factor = 1.00, wt_data = 1.00, wt_poseB = 65.09\u001b[0m\n",
      "\u001b[34m\u001b[1msoma_subject1 -- clap_001 -- chmosh:mosh_stagei:344 -- stagei_wt_init for different marker types body = 300.00: \u001b[0m\n",
      "\u001b[34m\u001b[1msoma_subject1 -- clap_001 -- chmosh:mosh_stagei:409 -- Init. loss values: beta = 0.00e+00 | data = 1.02e+06 | init_body = 6.11e-27 | init_head_corr = 3.89e-29 | poseB = 2.46e+04 | surf = 5.01e+01\u001b[0m\n",
      "\u001b[34m\u001b[1msoma_subject1 -- clap_001 -- chmosh:mosh_stagei:417 -- Final loss values: beta = 1.19e+02 | data = 5.15e+03 | init_body = 1.64e+03 | init_head_corr = 2.50e+01 | poseB = 1.21e+04 | surf = 1.62e+00\u001b[0m\n",
      "\u001b[34m\u001b[1msoma_subject1 -- clap_001 -- chmosh:mosh_stagei:342 -- Step 2/4 : Opt. wt_anneal_factor = 0.50, wt_data = 0.50, wt_poseB = 130.19\u001b[0m\n",
      "\u001b[34m\u001b[1msoma_subject1 -- clap_001 -- chmosh:mosh_stagei:344 -- stagei_wt_init for different marker types body = 150.00: \u001b[0m\n",
      "\u001b[34m\u001b[1msoma_subject1 -- clap_001 -- chmosh:mosh_stagei:409 -- Init. loss values: beta = 2.98e+01 | data = 2.06e+04 | init_body = 4.10e+02 | init_head_corr = 6.25e+00 | poseB = 3.02e+03 | surf = 1.62e+00\u001b[0m\n",
      "\u001b[34m\u001b[1msoma_subject1 -- clap_001 -- chmosh:mosh_stagei:417 -- Final loss values: beta = 1.65e+02 | data = 1.87e+03 | init_body = 2.92e+03 | init_head_corr = 8.73e+01 | poseB = 3.55e+03 | surf = 4.27e+00\u001b[0m\n",
      "\u001b[34m\u001b[1msoma_subject1 -- clap_001 -- chmosh:mosh_stagei:342 -- Step 3/4 : Opt. wt_anneal_factor = 0.25, wt_data = 0.25, wt_poseB = 260.38\u001b[0m\n",
      "\u001b[34m\u001b[1msoma_subject1 -- clap_001 -- chmosh:mosh_stagei:344 -- stagei_wt_init for different marker types body = 75.00: \u001b[0m\n",
      "\u001b[34m\u001b[1msoma_subject1 -- clap_001 -- chmosh:mosh_stagei:409 -- Init. loss values: beta = 4.12e+01 | data = 7.49e+03 | init_body = 7.31e+02 | init_head_corr = 2.18e+01 | poseB = 8.86e+02 | surf = 4.27e+00\u001b[0m\n"
     ]
    },
    {
     "ename": "",
     "evalue": "",
     "output_type": "error",
     "traceback": [
      "\u001b[1;31m在当前单元格或上一个单元格中执行代码时 Kernel 崩溃。请查看单元格中的代码，以确定故障的可能原因。有关详细信息，请单击 <a href='https://aka.ms/vscodeJupyterKernelCrash'>此处</a>。有关更多详细信息，请查看 Jupyter <a href='command:jupyter.viewOutput'>log</a>。"
     ]
    }
   ],
   "source": [
    "soma_work_base_dir = '/mnt/d/Code/SOMA'\n",
    "support_base_dir = osp.join(soma_work_base_dir, 'support_files')\n",
    "\n",
    "mocap_base_dir = osp.join(support_base_dir, 'evaluation_mocaps/original')\n",
    "\n",
    "work_base_dir = osp.join(soma_work_base_dir, 'running_just_mosh')\n",
    "\n",
    "target_ds_names = ['SOMA_manual_labeled',]\n",
    "\n",
    "for ds_name in target_ds_names:\n",
    "    mocap_fnames = glob(osp.join(mocap_base_dir, ds_name,  '*/*.c3d'))\n",
    "\n",
    "    logger.info(f'#mocaps found for {ds_name}: {len(mocap_fnames)}')\n",
    "\n",
    "    mosh_manual(\n",
    "        mocap_fnames,\n",
    "        mosh_cfg={\n",
    "            'moshpp.verbosity': 1, # set to 2 to visulaize the process in meshviewer\n",
    "            'dirs.work_base_dir': osp.join(work_base_dir, 'mosh_results'),\n",
    "            'dirs.support_base_dir': support_base_dir,\n",
    "        },\n",
    "        render_cfg={\n",
    "            'dirs.work_base_dir': osp.join(work_base_dir, 'mp4_renders'),\n",
    "            'render.render_engine': 'eevee',  # eevee / cycles,\n",
    "            # 'render.render_engine': 'cycles',  # eevee / cycles,\n",
    "            'render.show_markers': True,\n",
    "            # 'render.save_final_blend_file': True\n",
    "            'dirs.support_base_dir': support_base_dir,\n",
    "\n",
    "        },\n",
    "        parallel_cfg={\n",
    "            'pool_size': 1,\n",
    "            'max_num_jobs': 1,\n",
    "            'randomly_run_jobs': True,\n",
    "        },\n",
    "        run_tasks=[\n",
    "            'mosh',\n",
    "            # 'render',\n",
    "        ],\n",
    "        # fast_dev_run=True,\n",
    "    )\n"
   ]
  }
 ],
 "metadata": {
  "kernelspec": {
   "display_name": "Python 3 (ipykernel)",
   "language": "python",
   "name": "python3"
  },
  "language_info": {
   "codemirror_mode": {
    "name": "ipython",
    "version": 3
   },
   "file_extension": ".py",
   "mimetype": "text/x-python",
   "name": "python",
   "nbconvert_exporter": "python",
   "pygments_lexer": "ipython3",
   "version": "3.7.16"
  }
 },
 "nbformat": 4,
 "nbformat_minor": 4
}
